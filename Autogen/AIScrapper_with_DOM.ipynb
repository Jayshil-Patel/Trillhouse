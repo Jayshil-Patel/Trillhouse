{
  "cells": [
    {
      "cell_type": "code",
      "execution_count": 1,
      "metadata": {
        "id": "1ICZkDBg-VgR"
      },
      "outputs": [
        {
          "name": "stdout",
          "output_type": "stream",
          "text": [
            "Note: you may need to restart the kernel to use updated packages.\n"
          ]
        },
        {
          "name": "stderr",
          "output_type": "stream",
          "text": [
            "\n",
            "[notice] A new release of pip is available: 23.2.1 -> 24.0\n",
            "[notice] To update, run: python.exe -m pip install --upgrade pip\n"
          ]
        }
      ],
      "source": [
        "%pip install pyautogen>=0.2.3"
      ]
    },
    {
      "cell_type": "code",
      "execution_count": 2,
      "metadata": {
        "id": "HGLnh19k-Ywj"
      },
      "outputs": [],
      "source": [
        "from apikey import api\n",
        "API_key = api"
      ]
    },
    {
      "cell_type": "code",
      "execution_count": 3,
      "metadata": {
        "id": "TY3WhzAq-cNA"
      },
      "outputs": [],
      "source": [
        "from typing import Dict, Union\n",
        "\n",
        "from IPython import get_ipython\n",
        "from IPython.display import Image\n",
        "\n",
        "import autogen\n",
        "\n",
        "config_list = [\n",
        "    {\n",
        "        'model': 'gpt-3.5-turbo-16k-0613',\n",
        "        'api_key': API_key,\n",
        "    }\n",
        "]"
      ]
    },
    {
      "cell_type": "code",
      "execution_count": 4,
      "metadata": {
        "colab": {
          "base_uri": "https://localhost:8080/",
          "height": 1000
        },
        "id": "1-yExgCQ-eog",
        "outputId": "f26b6a5b-2795-4c0b-f957-394d0495b96e"
      },
      "outputs": [
        {
          "name": "stdout",
          "output_type": "stream",
          "text": [
            "\u001b[33magent_proxy\u001b[0m (to agent_assistant):\n",
            "\n",
            "Generate a Python script which does the following\n",
            "     - Goes to https://www.amazon.ca/LG-24MP40A-C-FreeSync-OnScreen-Charcoal/dp/B0B273TFXW/ref=sr_1_5?crid=XY26YA6IVWGL&keywords=monitor&qid=1707062618&sprefix=monitor%2Caps%2C103&sr=8-5&th=1 and saves the DOM in directory\n",
            "     - Takes the saved DOM and finds the price\n",
            "     - Prints the result on the screen\n",
            "\n",
            "--------------------------------------------------------------------------------\n",
            "\u001b[33magent_assistant\u001b[0m (to agent_proxy):\n",
            "\n",
            "# filename: amazon_price.py\n",
            "\n",
            "import requests\n",
            "from bs4 import BeautifulSoup\n",
            "\n",
            "# Step 1: Download the webpage and save the DOM in a file\n",
            "url = \"https://www.amazon.ca/LG-24MP40A-C-FreeSync-OnScreen-Charcoal/dp/B0B273TFXW/ref=sr_1_5?crid=XY26YA6IVWGL&keywords=monitor&qid=1707062618&sprefix=monitor%2Caps%2C103&sr=8-5&th=1\"\n",
            "response = requests.get(url)\n",
            "html_content = response.text\n",
            "\n",
            "# Save the DOM in a file\n",
            "with open(\"amazon_page.html\", \"w\") as file:\n",
            "    file.write(html_content)\n",
            "\n",
            "# Step 2: Read the saved DOM and find the price\n",
            "with open(\"amazon_page.html\", \"r\") as file:\n",
            "    html_content = file.read()\n",
            "\n",
            "soup = BeautifulSoup(html_content, \"html.parser\")\n",
            "price_element = soup.find(\"span\", class_=\"a-offscreen\")\n",
            "\n",
            "# Step 3: Print the result\n",
            "if price_element:\n",
            "    price = price_element.text\n",
            "    print(\"The price is:\", price)\n",
            "else:\n",
            "    print(\"Price not found\")\n",
            "\n",
            "# TERMINATE\n",
            "\n",
            "--------------------------------------------------------------------------------\n"
          ]
        },
        {
          "data": {
            "text/plain": [
              "ChatResult(chat_history=[{'content': 'Generate a Python script which does the following\\n     - Goes to https://www.amazon.ca/LG-24MP40A-C-FreeSync-OnScreen-Charcoal/dp/B0B273TFXW/ref=sr_1_5?crid=XY26YA6IVWGL&keywords=monitor&qid=1707062618&sprefix=monitor%2Caps%2C103&sr=8-5&th=1 and saves the DOM in directory\\n     - Takes the saved DOM and finds the price\\n     - Prints the result on the screen', 'role': 'assistant'}, {'content': '# filename: amazon_price.py\\n\\nimport requests\\nfrom bs4 import BeautifulSoup\\n\\n# Step 1: Download the webpage and save the DOM in a file\\nurl = \"https://www.amazon.ca/LG-24MP40A-C-FreeSync-OnScreen-Charcoal/dp/B0B273TFXW/ref=sr_1_5?crid=XY26YA6IVWGL&keywords=monitor&qid=1707062618&sprefix=monitor%2Caps%2C103&sr=8-5&th=1\"\\nresponse = requests.get(url)\\nhtml_content = response.text\\n\\n# Save the DOM in a file\\nwith open(\"amazon_page.html\", \"w\") as file:\\n    file.write(html_content)\\n\\n# Step 2: Read the saved DOM and find the price\\nwith open(\"amazon_page.html\", \"r\") as file:\\n    html_content = file.read()\\n\\nsoup = BeautifulSoup(html_content, \"html.parser\")\\nprice_element = soup.find(\"span\", class_=\"a-offscreen\")\\n\\n# Step 3: Print the result\\nif price_element:\\n    price = price_element.text\\n    print(\"The price is:\", price)\\nelse:\\n    print(\"Price not found\")\\n\\n# TERMINATE', 'role': 'user'}], summary='# filename: amazon_price.py\\n\\nimport requests\\nfrom bs4 import BeautifulSoup\\n\\n# Step 1: Download the webpage and save the DOM in a file\\nurl = \"https://www.amazon.ca/LG-24MP40A-C-FreeSync-OnScreen-Charcoal/dp/B0B273TFXW/ref=sr_1_5?crid=XY26YA6IVWGL&keywords=monitor&qid=1707062618&sprefix=monitor%2Caps%2C103&sr=8-5&th=1\"\\nresponse = requests.get(url)\\nhtml_content = response.text\\n\\n# Save the DOM in a file\\nwith open(\"amazon_page.html\", \"w\") as file:\\n    file.write(html_content)\\n\\n# Step 2: Read the saved DOM and find the price\\nwith open(\"amazon_page.html\", \"r\") as file:\\n    html_content = file.read()\\n\\nsoup = BeautifulSoup(html_content, \"html.parser\")\\nprice_element = soup.find(\"span\", class_=\"a-offscreen\")\\n\\n# Step 3: Print the result\\nif price_element:\\n    price = price_element.text\\n    print(\"The price is:\", price)\\nelse:\\n    print(\"Price not found\")\\n\\n# ', cost=({'total_cost': 0.0027930000000000003, 'gpt-3.5-turbo-16k-0613': {'cost': 0.0027930000000000003, 'prompt_tokens': 591, 'completion_tokens': 255, 'total_tokens': 846}}, {'total_cost': 0.0027930000000000003, 'gpt-3.5-turbo-16k-0613': {'cost': 0.0027930000000000003, 'prompt_tokens': 591, 'completion_tokens': 255, 'total_tokens': 846}}), human_input=[])"
            ]
          },
          "execution_count": 4,
          "metadata": {},
          "output_type": "execute_result"
        }
      ],
      "source": [
        "llm_config={\n",
        "    \"seed\": 50,                     # for caching and reproducibility\n",
        "    \"config_list\": config_list,     # which models to use\n",
        "    \"temperature\": 0,               # for sampling\n",
        "}\n",
        "\n",
        "# create an AssistantAgent instance named \"assistant\"\n",
        "agent_assistant = autogen.AssistantAgent(\n",
        "    name=\"agent_assistant\",\n",
        "    llm_config=llm_config,\n",
        ")\n",
        "\n",
        "# create a UserProxyAgent that acts on the humans behalf\n",
        "agent_proxy = autogen.UserProxyAgent(\n",
        "    name=\"agent_proxy\",\n",
        "    human_input_mode=\"NEVER\",           # NEVER, TERMINATE, or ALWAYS\n",
        "                                            # TERMINATE - human input needed when assistant sends TERMINATE\n",
        "    max_consecutive_auto_reply=10,\n",
        "    is_termination_msg=lambda x: x.get(\"content\", \"\").rstrip().endswith(\"TERMINATE\"),\n",
        "    code_execution_config={\n",
        "        \"work_dir\": \"agent_output\",     # path for file output of program\n",
        "        \"use_docker\": False,            # True or image name like \"python:3\" to use docker image\n",
        "    },\n",
        "    llm_config=llm_config,\n",
        "    system_message=\"\"\"Reply TERMINATE if the task has been solved at full satisfaction.\n",
        "                      Otherwise, reply CONTINUE, or the reason why the task is not solved yet.\"\"\"\n",
        ")\n",
        "\n",
        "agent_proxy.initiate_chat(\n",
        "    agent_assistant,\n",
        "    message=\"\"\"Generate a Python script which does the following\n",
        "     - Goes to https://www.amazon.ca/LG-24MP40A-C-FreeSync-OnScreen-Charcoal/dp/B0B273TFXW/ref=sr_1_5?crid=XY26YA6IVWGL&keywords=monitor&qid=1707062618&sprefix=monitor%2Caps%2C103&sr=8-5&th=1 and saves the DOM in directory\n",
        "     - Takes the saved DOM and finds the price\n",
        "     - Prints the result on the screen\"\"\",\n",
        ")"
      ]
    },
    {
      "cell_type": "code",
      "execution_count": 5,
      "metadata": {
        "id": "ZE3xdcKW-oOC"
      },
      "outputs": [
        {
          "ename": "NameError",
          "evalue": "name 'user_proxy' is not defined",
          "output_type": "error",
          "traceback": [
            "\u001b[1;31m---------------------------------------------------------------------------\u001b[0m",
            "\u001b[1;31mNameError\u001b[0m                                 Traceback (most recent call last)",
            "Cell \u001b[1;32mIn[5], line 2\u001b[0m\n\u001b[0;32m      1\u001b[0m \u001b[38;5;66;03m# followup of the previous question\u001b[39;00m\n\u001b[1;32m----> 2\u001b[0m \u001b[43muser_proxy\u001b[49m\u001b[38;5;241m.\u001b[39msend(\n\u001b[0;32m      3\u001b[0m     recipient\u001b[38;5;241m=\u001b[39massistant,\n\u001b[0;32m      4\u001b[0m     message\u001b[38;5;241m=\u001b[39m\u001b[38;5;124m\"\"\"\u001b[39m\u001b[38;5;124mPlot the chart\u001b[39m\u001b[38;5;124m\"\"\"\u001b[39m,\n\u001b[0;32m      5\u001b[0m )\n",
            "\u001b[1;31mNameError\u001b[0m: name 'user_proxy' is not defined"
          ]
        }
      ],
      "source": [
        "# followup of the previous question\n",
        "user_proxy.send(\n",
        "    recipient=assistant,\n",
        "    message=\"\"\"Plot the chart\"\"\",\n",
        ")"
      ]
    },
    {
      "cell_type": "code",
      "execution_count": null,
      "metadata": {
        "id": "_vSMjvXOygCO"
      },
      "outputs": [],
      "source": [
        "# followup of the previous question\n",
        "user_proxy.send(\n",
        "    recipient=assistant,\n",
        "    message=\"\"\"save the plot as png\"\"\",\n",
        ")"
      ]
    },
    {
      "cell_type": "code",
      "execution_count": null,
      "metadata": {
        "id": "V5jpYn-by2Ry"
      },
      "outputs": [],
      "source": [
        "from IPython.display import Image\n",
        "\n",
        "# Replace 'image_path' with the path to your image file\n",
        "Image(filename='/content/coding/stock_prices.png')"
      ]
    }
  ],
  "metadata": {
    "colab": {
      "provenance": []
    },
    "kernelspec": {
      "display_name": "Python 3",
      "name": "python3"
    },
    "language_info": {
      "codemirror_mode": {
        "name": "ipython",
        "version": 3
      },
      "file_extension": ".py",
      "mimetype": "text/x-python",
      "name": "python",
      "nbconvert_exporter": "python",
      "pygments_lexer": "ipython3",
      "version": "3.12.1"
    }
  },
  "nbformat": 4,
  "nbformat_minor": 0
}
